{
  "nbformat": 4,
  "nbformat_minor": 0,
  "metadata": {
    "@webio": {
      "lastCommId": null,
      "lastKernelId": null
    },
    "kernelspec": {
      "name": "python3",
      "display_name": "Python 3"
    },
    "toc": {
      "base_numbering": 1,
      "nav_menu": {},
      "number_sections": true,
      "sideBar": true,
      "skip_h1_title": false,
      "title_cell": "Table of Contents",
      "title_sidebar": "Contents",
      "toc_cell": false,
      "toc_position": {
        "height": "329px",
        "left": "924px",
        "top": "165px",
        "width": "165px"
      },
      "toc_section_display": true,
      "toc_window_display": false
    },
    "varInspector": {
      "cols": {
        "lenName": 16,
        "lenType": 16,
        "lenVar": 40
      },
      "kernels_config": {
        "python": {
          "delete_cmd_postfix": "",
          "delete_cmd_prefix": "del ",
          "library": "var_list.py",
          "varRefreshCmd": "print(var_dic_list())"
        },
        "r": {
          "delete_cmd_postfix": ") ",
          "delete_cmd_prefix": "rm(",
          "library": "var_list.r",
          "varRefreshCmd": "cat(var_dic_list()) "
        }
      },
      "position": {
        "height": "299px",
        "left": "579px",
        "right": "20px",
        "top": "120px",
        "width": "361px"
      },
      "types_to_exclude": [
        "module",
        "function",
        "builtin_function_or_method",
        "instance",
        "_Feature"
      ],
      "window_display": false
    },
    "colab": {
      "name": "gfe-notebook.ipynb",
      "provenance": [],
      "collapsed_sections": [],
      "include_colab_link": true
    }
  },
  "cells": [
    {
      "cell_type": "markdown",
      "metadata": {
        "id": "view-in-github",
        "colab_type": "text"
      },
      "source": [
        "<a href=\"https://colab.research.google.com/github/tlamadon/pygrpfe/blob/main/docs-src/notebooks/gfe_notebook.ipynb\" target=\"_parent\"><img src=\"https://colab.research.google.com/assets/colab-badge.svg\" alt=\"Open In Colab\"/></a>"
      ]
    },
    {
      "cell_type": "markdown",
      "metadata": {
        "id": "0nrmbLX81Twp"
      },
      "source": [
        "# Discretizing Unobserved Heterogeneity: A Step-by-Step Example\n",
        "\n",
        "Welcome to the example on using the estimator proposed in [Bonhomme, Lamadon and Manresa (2021)](https://www.econometricsociety.org/system/files/15238-5.pdf). This notebook provides the code to reproduce the first example of the paper. \n",
        "\n",
        "We will simulate from a model and estimate the main parameters by grouping individuals first.\n",
        "\n",
        "You can run the code in this notebook by selecting `Runtime > Run all` in the menu bar.\n",
        "\n"
      ]
    },
    {
      "cell_type": "code",
      "metadata": {
        "ExecuteTime": {
          "end_time": "2021-01-19T22:56:08.569631Z",
          "start_time": "2021-01-19T22:56:07.898638Z"
        },
        "id": "aWeuiMNjDiB2"
      },
      "source": [
        "%%capture\n",
        "import torch\n",
        "import numpy as np\n",
        "import pandas as pd\n",
        "from sklearn.cluster import KMeans\n",
        "from statsmodels.discrete.discrete_model import Probit\n",
        "import patsy\n",
        "import matplotlib.pylab as plt\n",
        "import tqdm\n",
        "import itertools\n",
        "\n",
        "ax = np.newaxis"
      ],
      "execution_count": null,
      "outputs": []
    },
    {
      "cell_type": "markdown",
      "metadata": {
        "id": "jGe_pAc8DiB3"
      },
      "source": [
        "The following command makes sure the pygfe package is installed. It provides a small set of helper functions. You can view it online at [pygrpfe](https://github.com/tlamadon/pygrpfe). Here we install it using a shell pip command:"
      ]
    },
    {
      "cell_type": "code",
      "metadata": {
        "ExecuteTime": {
          "end_time": "2021-01-19T22:56:09.653037Z",
          "start_time": "2021-01-19T22:56:09.650152Z"
        },
        "id": "ZKbJRge2DiB3"
      },
      "source": [
        "%%capture\n",
        "!pip install pygrpfe\n",
        "import pygrpfe as gfe"
      ],
      "execution_count": null,
      "outputs": []
    },
    {
      "cell_type": "markdown",
      "metadata": {
        "id": "76HtFJtyDiB4"
      },
      "source": [
        "# A simple model of wage and participation\n",
        "\n",
        "\\begin{align*}\n",
        "Y^*_{it} & = \\alpha_i + \\epsilon_{it} \\\\\n",
        "D_{it} &= 1\\big[ u(\\alpha_i) \\geq c(D_{it-1}) + V_{it}  \\big] \\\\\n",
        "Y_{it} &= D_{it} Y^*_{it} \\\\\n",
        "\\end{align*}\n",
        "\n",
        "where we use \n",
        "\n",
        "$$u(\\alpha) = \\frac{e^{(1-\\gamma) \\alpha } -1}{1-\\gamma}$$\n",
        "\n",
        "and use as initial conditions $D_{i1} = 1\\big[ u(\\alpha_i) \\geq c(1) + V_{i1}  \\big]$."
      ]
    },
    {
      "cell_type": "code",
      "metadata": {
        "ExecuteTime": {
          "end_time": "2021-01-19T22:56:11.910499Z",
          "start_time": "2021-01-19T22:56:11.905885Z"
        },
        "id": "P-8NM7MgDiB4"
      },
      "source": [
        "def dgp_simulate(ni,nt,gamma=2.0,eps_sd=1.0):\n",
        "    \"\"\" simulates according to the model \"\"\"\n",
        "    alpha = np.random.normal(size=(ni))\n",
        "    eps   = np.random.normal(size=(ni,nt))\n",
        "    v     = np.random.normal(size=(ni,nt))\n",
        "    \n",
        "    # non-censored outcome\n",
        "    W = alpha[:,ax] + eps*eps_sd\n",
        "    \n",
        "    # utility\n",
        "    U = (np.exp( alpha * (1-gamma)) - 1)/(1-gamma)\n",
        "    U = U - U.mean()\n",
        "    \n",
        "    # costs\n",
        "    C1 = -1; C0=0;\n",
        "    \n",
        "    # binary decision\n",
        "    Y = np.ones((ni,nt))\n",
        "    Y[:,0] = U.squeeze() > C1 + v[:,0]\n",
        "    for t in range(1,nt): \n",
        "        Y[:,t] = U > C1*Y[:,t-1] + C0*(1-Y[:,t-1]) + v[:,t]\n",
        "    W =  W * Y\n",
        "        \n",
        "    return(W,Y)"
      ],
      "execution_count": null,
      "outputs": []
    },
    {
      "cell_type": "markdown",
      "metadata": {
        "id": "lAxNLfswDiB4"
      },
      "source": [
        "# Simulating and estimating the model\n",
        "\n",
        "We show the steps to estimating the model. \n",
        "\n",
        "We simulate from the DGP we have defined."
      ]
    },
    {
      "cell_type": "code",
      "metadata": {
        "ExecuteTime": {
          "end_time": "2021-01-19T22:56:58.255095Z",
          "start_time": "2021-01-19T22:56:58.249758Z"
        },
        "id": "VQtFvIz0DiB4"
      },
      "source": [
        "ni = 1000\n",
        "nt = 20\n",
        "Y,D = dgp_simulate(ni,nt,2.0)"
      ],
      "execution_count": null,
      "outputs": []
    },
    {
      "cell_type": "markdown",
      "metadata": {
        "id": "Kj2WYuxmDiB5"
      },
      "source": [
        "## Step 1: grouping observations\n",
        "\n",
        "We group individuals based on their outcomes. We consider as moments the average value of $DY$ and the average value of $D$. We give our gfe function the $t$-specific values so that it can compute the within individual variation. This is a measure used to pick the number of groups.\n",
        "\n",
        "The `group` function chooses the number of groups based on the rule described in the paper. "
      ]
    },
    {
      "cell_type": "code",
      "metadata": {
        "ExecuteTime": {
          "end_time": "2021-01-19T22:57:04.092164Z",
          "start_time": "2021-01-19T22:56:59.913431Z"
        },
        "scrolled": true,
        "colab": {
          "base_uri": "https://localhost:8080/"
        },
        "id": "xGt17I1TDiB5",
        "outputId": "793d14f6-2620-4ce8-c707-111033ae61b3"
      },
      "source": [
        "# we create the moments\n",
        "# this has dimension ni x nt x nm \n",
        "M_itm = np.stack([Y,D],axis=2)\n",
        "\n",
        "# we use our sugar function to get the groups\n",
        "G_i,_  = gfe.group(M_itm)\n",
        "\n",
        "print(\"Number of groups = {:d}\".format(G_i.max()))"
      ],
      "execution_count": null,
      "outputs": [
        {
          "output_type": "stream",
          "name": "stdout",
          "text": [
            "Number of groups = 17\n"
          ]
        }
      ]
    },
    {
      "cell_type": "markdown",
      "metadata": {
        "id": "TWuuIzYLDiB5"
      },
      "source": [
        "We can plot the grouping:"
      ]
    },
    {
      "cell_type": "code",
      "metadata": {
        "ExecuteTime": {
          "end_time": "2021-01-19T22:57:05.319721Z",
          "start_time": "2021-01-19T22:57:05.241342Z"
        },
        "colab": {
          "base_uri": "https://localhost:8080/",
          "height": 265
        },
        "id": "lT-jtv44DiB6",
        "outputId": "c99cedb6-a146-40e7-d561-647886310663"
      },
      "source": [
        "dd = pd.DataFrame({'Y':Y.mean(1),'G':G_i,'D':D.mean(1)})\n",
        "plt.scatter(dd.Y,dd.D,c=dd.G*1.0)\n",
        "plt.show()"
      ],
      "execution_count": null,
      "outputs": [
        {
          "output_type": "display_data",
          "data": {
            "image/png": "[encoded data removed]",
            "text/plain": [
              "<Figure size 432x288 with 1 Axes>"
            ]
          },
          "metadata": {
            "needs_background": "light"
          }
        }
      ]
    },
    {
      "cell_type": "markdown",
      "metadata": {
        "id": "dk-AIswIDiB6"
      },
      "source": [
        "## Step 2: Estimate the likelihood model with group specific parameters\n",
        "\n",
        "In the model we proposed, this second step is a probit. We can then directly use the python probit routine with group dummies."
      ]
    },
    {
      "cell_type": "code",
      "metadata": {
        "ExecuteTime": {
          "end_time": "2021-01-19T22:57:10.651507Z",
          "start_time": "2021-01-19T22:57:10.121502Z"
        },
        "colab": {
          "base_uri": "https://localhost:8080/"
        },
        "id": "h0dnUZdgDiB6",
        "outputId": "c9207258-b20a-421b-d606-7058e0d5a238"
      },
      "source": [
        "ni,nt = D.shape\n",
        "\n",
        "# next we minimize using groups as FE\n",
        "dd = pd.DataFrame({\n",
        "    'd': D[:,range(1,nt)].flatten(), \n",
        "    'dl':D[:,range(nt-1)].flatten(), \n",
        "    'gi':np.broadcast_to(G_i[:,ax], (ni,nt-1)).flatten()})\n",
        "\n",
        "yv,Xv = patsy.dmatrices(\"d ~ 0 + dl + C(gi)\", dd, return_type='matrix')\n",
        "mod = Probit(dd['d'], Xv)\n",
        "res = mod.fit(maxiter=2000,method='bfgs') \n",
        "\n",
        "print(\"Estimated cost parameters = {:.3f}\".format(res.params[-1]))"
      ],
      "execution_count": null,
      "outputs": [
        {
          "output_type": "stream",
          "name": "stdout",
          "text": [
            "Optimization terminated successfully.\n",
            "         Current function value: 0.218178\n",
            "         Iterations: 161\n",
            "         Function evaluations: 162\n",
            "         Gradient evaluations: 162\n",
            "Estimated cost parameters = 1.005\n"
          ]
        }
      ]
    }
  ]
}